{
 "cells": [
  {
   "cell_type": "markdown",
   "metadata": {},
   "source": [
    "Using Beatiful Soup library to Scrap Companies' information Pages from ZaubaCrop Website"
   ]
  },
  {
   "cell_type": "code",
   "execution_count": 31,
   "metadata": {},
   "outputs": [],
   "source": [
    "from urllib.request import urlopen\n",
    "import csv\n",
    "from csv import writer\n",
    "from bs4 import BeautifulSoup as soup\n",
    "import re"
   ]
  },
  {
   "cell_type": "markdown",
   "metadata": {},
   "source": [
    "Converting \"Biofuel Companies Home Page\" into BeautifulSoup format"
   ]
  },
  {
   "cell_type": "code",
   "execution_count": 32,
   "metadata": {},
   "outputs": [],
   "source": [
    "url='https://www.zaubacorp.com/companysearchresults/Biofuel-'\n",
    "uClient=urlopen(url)\n",
    "page_html=uClient.read()\n",
    "page_soup=soup(page_html)"
   ]
  },
  {
   "cell_type": "markdown",
   "metadata": {},
   "source": [
    "Now Getting all the hyperlinks to internal Pages and saving it as a list"
   ]
  },
  {
   "cell_type": "code",
   "execution_count": 33,
   "metadata": {},
   "outputs": [],
   "source": [
    "def getLinks(page_html, includeUrl):\n",
    "    Links=[]\n",
    "    for link in page_html.findAll(\"a\", href=re.compile(\"^(/|.*\"+includeUrl+\")\")):\n",
    "        if link.attrs['href'] is not None:\n",
    "            if link.attrs['href'] not in Links:\n",
    "                Links.append(link.attrs['href'])\n",
    "    return Links\n",
    "\n",
    "def splitAddress(address):\n",
    "    addressParts = address.replace(\"http://\", \"\").split(\"/\")\n",
    "    return addressParts\n",
    "\n",
    "company_links= getLinks(page_soup, splitAddress(url)[0])"
   ]
  },
  {
   "cell_type": "markdown",
   "metadata": {},
   "source": [
    "Refining the List to include only Companies' information Page link"
   ]
  },
  {
   "cell_type": "code",
   "execution_count": 38,
   "metadata": {},
   "outputs": [],
   "source": [
    "del company_links[0:14]\n",
    "del company_links[339:367]\n",
    "#company_links"
   ]
  },
  {
   "cell_type": "markdown",
   "metadata": {},
   "source": [
    "Creating Database of Relevant Information about the Company from each page's table "
   ]
  },
  {
   "cell_type": "code",
   "execution_count": 36,
   "metadata": {},
   "outputs": [],
   "source": [
    "def Database_creation(company_link):\n",
    "    uClient=urlopen(company_link);\n",
    "    page_soup=soup(uClient);\n",
    "    table = page_soup.findAll(\"table\",{\"class\":\"table table-striped\"})[0]\n",
    "    rows = table.findAll(\"tr\")\n",
    "    i=0;\n",
    "    csvRow_L=[]\n",
    "    for row in rows:\n",
    "        for cell in row.findAll(['td']):\n",
    "            if i/2!=0:\n",
    "                csvRow_L.append(cell.get_text());\n",
    "                i+=1;\n",
    "            else:\n",
    "                i+=1;\n",
    "                continue;\n",
    "        i=0;\n",
    "    return(csvRow_L)\n",
    "\n",
    "def Database_head(company_link):\n",
    "    uClient=urlopen(company_link);\n",
    "    page_soup=soup(uClient);\n",
    "    table = page_soup.findAll(\"table\",{\"class\":\"table table-striped\"})[0]\n",
    "    rows = table.findAll(\"tr\")\n",
    "    i=0;\n",
    "    csvRow_L=[]\n",
    "    for row in rows:\n",
    "        for cell in row.findAll(['td']):\n",
    "            if i/2==0:\n",
    "                csvRow_L.append(cell.get_text());\n",
    "                i+=1;\n",
    "            else:\n",
    "                i+=1;\n",
    "                continue;\n",
    "        i=0;\n",
    "    return(csvRow_L)\n",
    "    "
   ]
  },
  {
   "cell_type": "markdown",
   "metadata": {},
   "source": [
    "Now Running the Loop for filling of Database with all the information saved as lists then converted to csv file"
   ]
  },
  {
   "cell_type": "code",
   "execution_count": 37,
   "metadata": {},
   "outputs": [],
   "source": [
    "csvRow_G=[]\n",
    "for company in company_links:\n",
    "    if company_links.index(company)==0:\n",
    "        csvRow_G.append(Database_head(company));\n",
    "    csvRow_G.append(Database_creation(company));\n",
    "    \n",
    "with open(\"/Users/yashchauhan/Desktop/final2.csv\", \"wt\") as f:\n",
    "    writer = csv.writer(f)\n",
    "    writer.writerows(csvRow_G)\n"
   ]
  }
 ],
 "metadata": {
  "kernelspec": {
   "display_name": "Python 3",
   "language": "python",
   "name": "python3"
  },
  "language_info": {
   "codemirror_mode": {
    "name": "ipython",
    "version": 3
   },
   "file_extension": ".py",
   "mimetype": "text/x-python",
   "name": "python",
   "nbconvert_exporter": "python",
   "pygments_lexer": "ipython3",
   "version": "3.7.3"
  }
 },
 "nbformat": 4,
 "nbformat_minor": 2
}
